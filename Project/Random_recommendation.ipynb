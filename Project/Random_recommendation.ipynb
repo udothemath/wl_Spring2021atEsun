{
 "cells": [
  {
   "cell_type": "markdown",
   "metadata": {},
   "source": [
    "# Random recommendation (whole)"
   ]
  },
  {
   "cell_type": "code",
   "execution_count": 3,
   "metadata": {},
   "outputs": [],
   "source": [
    "import pandas as pd\n",
    "import random\n",
    "pd.options.mode.chained_assignment = None # hide SettingWithCopyWarning\n",
    "\n",
    "df = pd.read_csv('D:/data_encoding_sel.csv')"
   ]
  },
  {
   "cell_type": "code",
   "execution_count": 5,
   "metadata": {},
   "outputs": [
    {
     "name": "stdout",
     "output_type": "stream",
     "text": [
      "Average recall@3 in 200 epochs:\n",
      " 0.004094292803970231\n",
      "Average MRR in 200 epochs: 0.00979217395957716\n"
     ]
    }
   ],
   "source": [
    "def rec_ran10(train,test,epoch,recall_num):\n",
    "    train_items = list(set(df['mod_itemfullname']))\n",
    "    test_actual = list(test['mod_itemfullname'])\n",
    "    T, M = 0, 0\n",
    "\n",
    "    for epo in range(epoch):\n",
    "        s = 0\n",
    "        MRR_res = 0\n",
    "        for i in range(len(test)):\n",
    "            rand = random.sample(train_items,len(train_items)) # random recommended list\n",
    "            if test_actual[i] in rand:\n",
    "                idx = rand.index(test_actual[i])\n",
    "                MRR_res += 1/(idx+1)\n",
    "                if test_actual[i] in rand[0:recall_num]:\n",
    "                    s+=1\n",
    "        rec10 = s/len(test)\n",
    "        MRR_res = MRR_res/len(test)\n",
    "        T += rec10\n",
    "        M += MRR_res\n",
    "    T = T/epoch\n",
    "    M = M/epoch\n",
    "    print(f'Average recall@{recall_num} in {epoch} epochs:\\n',T)\n",
    "    print(f'Average MRR in {epoch} epochs:',M)\n",
    "    \n",
    "# 80 train, 20 test\n",
    "train = df[0:4836]\n",
    "test = df[4836:]\n",
    "rec_ran10(train,test,epoch=200,recall_num=3)"
   ]
  },
  {
   "cell_type": "markdown",
   "metadata": {},
   "source": [
    "# Random recommendation (week)"
   ]
  },
  {
   "cell_type": "code",
   "execution_count": 7,
   "metadata": {},
   "outputs": [],
   "source": [
    "df['user_id'] = pd.to_datetime(df['transaction_date']).apply(lambda time: time.dayofweek)"
   ]
  },
  {
   "cell_type": "code",
   "execution_count": 8,
   "metadata": {},
   "outputs": [
    {
     "name": "stdout",
     "output_type": "stream",
     "text": [
      "Average recall@3 in 200 epochs: 0.007444168734491315\n",
      "Average MRR in 200 epochs: 0.013724528735855598\n"
     ]
    }
   ],
   "source": [
    "def rec_ranweek(train,test,epoch,recall_num):\n",
    "    test_actual = list(test['mod_itemfullname'])\n",
    "    test_userid = list(test['user_id'])\n",
    "    Each_day = {}\n",
    "    for i in range(7):\n",
    "        Each_day[i] = list(set(train[train['user_id']==list(train['user_id'])[i]]['mod_itemfullname'])) # i=0 : monday\n",
    "\n",
    "    T, M = 0, 0\n",
    "\n",
    "    for epo in range(epoch):    \n",
    "        s=0\n",
    "        MRR_res = 0\n",
    "        for i in range(len(test_actual)):\n",
    "            idx = test_userid[i]\n",
    "            rand = random.sample(Each_day[idx],len(Each_day[idx]))\n",
    "            if test_actual[i] in rand:\n",
    "                p = rand.index(test_actual[i])\n",
    "                MRR_res += 1/(p+1)\n",
    "                if test_actual[i] in rand[0:recall_num]:\n",
    "                    s+=1    \n",
    "        rec10 = s/len(test_actual)\n",
    "        MRR_res = MRR_res/len(test)\n",
    "        T += rec10\n",
    "        M += MRR_res\n",
    "    T = T/epoch\n",
    "    M = M/epoch\n",
    "\n",
    "    print(f'Average recall@{recall_num} in {epoch} epochs:',rec10)\n",
    "    print(f'Average MRR in {epoch} epochs:',M)\n",
    "    \n",
    "# 80 train, 20 test\n",
    "train = df[0:4836]\n",
    "test = df[4836:]\n",
    "rec_ranweek(train,test,200,3)"
   ]
  },
  {
   "cell_type": "markdown",
   "metadata": {},
   "source": [
    "# Random recommendation (Time)"
   ]
  },
  {
   "cell_type": "code",
   "execution_count": 9,
   "metadata": {},
   "outputs": [],
   "source": [
    "from datetime import datetime\n",
    "df['user_id']= [0 for i in range(len(df))]\n",
    "\n",
    "for i in range(len(df)):\n",
    "    d_target = datetime.strptime(df['transaction_date'][i][11:], \"%H:%M:%S\")\n",
    "\n",
    "    if datetime.strptime('08:00:00', \"%H:%M:%S\") <= d_target < datetime.strptime('11:00:00', \"%H:%M:%S\"):\n",
    "        df['user_id'][i] = 0\n",
    "    elif datetime.strptime('11:00:00', \"%H:%M:%S\") <= d_target < datetime.strptime('14:00:00', \"%H:%M:%S\"):\n",
    "        df['user_id'][i] = 1 \n",
    "    elif datetime.strptime('14:00:00', \"%H:%M:%S\") <= d_target < datetime.strptime('17:00:00', \"%H:%M:%S\"):\n",
    "        df['user_id'][i] = 2 \n",
    "    elif datetime.strptime('17:00:00', \"%H:%M:%S\") <= d_target < datetime.strptime('20:00:00', \"%H:%M:%S\"):\n",
    "        df['user_id'][i] = 3 \n",
    "    elif datetime.strptime('20:00:00', \"%H:%M:%S\") <= d_target < datetime.strptime('23:59:59', \"%H:%M:%S\"):\n",
    "        df['user_id'][i] = 4\n",
    "    elif datetime.strptime('00:00:00', \"%H:%M:%S\") <= d_target < datetime.strptime('08:00:00', \"%H:%M:%S\"):\n",
    "        df['user_id'][i] = 5"
   ]
  },
  {
   "cell_type": "code",
   "execution_count": 10,
   "metadata": {},
   "outputs": [
    {
     "name": "stdout",
     "output_type": "stream",
     "text": [
      "Average recall@3 in 200 epochs: 0.015715467328370553\n",
      "Average MRR in 200 epochs: 0.019066633215279235\n"
     ]
    }
   ],
   "source": [
    "# 80 train, 20 test\n",
    "train = df[0:4836]\n",
    "test = df[4836:]\n",
    "rec_ranweek(train,test,200,3)"
   ]
  },
  {
   "cell_type": "code",
   "execution_count": 11,
   "metadata": {},
   "outputs": [
    {
     "name": "stdout",
     "output_type": "stream",
     "text": [
      "Average recall@5 in 200 epochs: 0.02315963606286187\n",
      "Average MRR in 200 epochs: 0.018863313339500917\n"
     ]
    }
   ],
   "source": [
    "# 80 train, 20 test\n",
    "train = df[0:4836]\n",
    "test = df[4836:]\n",
    "rec_ranweek(train,test,200,5)"
   ]
  },
  {
   "cell_type": "markdown",
   "metadata": {},
   "source": [
    "# Random recommendation (week+time)"
   ]
  },
  {
   "cell_type": "code",
   "execution_count": 12,
   "metadata": {},
   "outputs": [],
   "source": [
    "\n",
    "df['user_id1'] = pd.to_datetime(df['transaction_date']).apply(lambda time: time.dayofweek)\n",
    "df['user_id'] = [0 for i in range(len(df))]\n",
    "for i in range(len(df['transaction_date'])):\n",
    "    d_target = datetime.strptime(df['transaction_date'][i][11:], \"%H:%M:%S\")\n",
    "    \n",
    "    for j in range(7):\n",
    "        if df['user_id1'][i]==j:  # Monday\n",
    "            if datetime.strptime('08:00:00', \"%H:%M:%S\") <= d_target < datetime.strptime('11:00:00', \"%H:%M:%S\"):\n",
    "                df['user_id'][i] = j*6\n",
    "            elif datetime.strptime('11:00:00', \"%H:%M:%S\") <= d_target < datetime.strptime('14:00:00', \"%H:%M:%S\"):\n",
    "                df['user_id'][i] = j*6+1 \n",
    "            elif datetime.strptime('14:00:00', \"%H:%M:%S\") <= d_target < datetime.strptime('17:00:00', \"%H:%M:%S\"):\n",
    "                df['user_id'][i] = j*6+2  \n",
    "            elif datetime.strptime('17:00:00', \"%H:%M:%S\") <= d_target < datetime.strptime('20:00:00', \"%H:%M:%S\"):\n",
    "                df['user_id'][i] = j*6+3  \n",
    "            elif datetime.strptime('20:00:00', \"%H:%M:%S\") <= d_target < datetime.strptime('23:59:59', \"%H:%M:%S\"):\n",
    "                df['user_id'][i] = j*6+4 \n",
    "            elif datetime.strptime('00:00:00', \"%H:%M:%S\") <= d_target < datetime.strptime('08:00:00', \"%H:%M:%S\"):\n",
    "                df['user_id'][i] = j*6+5"
   ]
  },
  {
   "cell_type": "code",
   "execution_count": 13,
   "metadata": {},
   "outputs": [
    {
     "name": "stdout",
     "output_type": "stream",
     "text": [
      "Average recall@3 in 200 epochs: 0.009925558312655087\n",
      "Average MRR in 200 epochs: 0.01786431559390088\n"
     ]
    }
   ],
   "source": [
    "def rec_ranweek(train,test,epoch,recall_num):\n",
    "    test_actual = list(test['mod_itemfullname'])\n",
    "    test_userid = list(test['user_id'])\n",
    "    Each_day = {}\n",
    "    for i in range(42):\n",
    "        Each_day[i] = list(set(train[train['user_id']==list(train['user_id'])[i]]['mod_itemfullname'])) \n",
    "\n",
    "    T, M = 0, 0\n",
    "\n",
    "    for epo in range(epoch):    \n",
    "        s=0\n",
    "        MRR_res = 0\n",
    "        for i in range(len(test_actual)):\n",
    "            idx = test_userid[i]\n",
    "            rand = random.sample(Each_day[idx],len(Each_day[idx]))\n",
    "            if test_actual[i] in rand:\n",
    "                p = rand.index(test_actual[i])\n",
    "                MRR_res += 1/(p+1)\n",
    "                if test_actual[i] in rand[0:recall_num]:\n",
    "                    s+=1    \n",
    "        rec10 = s/len(test_actual)\n",
    "        MRR_res = MRR_res/len(test)\n",
    "        T += rec10\n",
    "        M += MRR_res\n",
    "    T = T/epoch\n",
    "    M = M/epoch\n",
    "    print(f'Average recall@{recall_num} in {epoch} epochs:',rec10)\n",
    "    print(f'Average MRR in {epoch} epochs:',M)\n",
    "\n",
    "# 80 train, 20 test\n",
    "train = df[0:4836]\n",
    "test = df[4836:]\n",
    "rec_ranweek(train,test,200,3)"
   ]
  },
  {
   "cell_type": "code",
   "execution_count": null,
   "metadata": {},
   "outputs": [],
   "source": []
  }
 ],
 "metadata": {
  "kernelspec": {
   "display_name": "Python 3",
   "language": "python",
   "name": "python3"
  },
  "language_info": {
   "codemirror_mode": {
    "name": "ipython",
    "version": 3
   },
   "file_extension": ".py",
   "mimetype": "text/x-python",
   "name": "python",
   "nbconvert_exporter": "python",
   "pygments_lexer": "ipython3",
   "version": "3.7.6"
  }
 },
 "nbformat": 4,
 "nbformat_minor": 4
}
