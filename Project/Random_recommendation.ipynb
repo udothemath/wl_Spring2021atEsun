{
 "cells": [
  {
   "cell_type": "markdown",
   "metadata": {},
   "source": [
    "# Random recommendation (whole)"
   ]
  },
  {
   "cell_type": "code",
   "execution_count": 7,
   "metadata": {},
   "outputs": [],
   "source": [
    "import pandas as pd\n",
    "df = pd.read_csv('D:/data_encoding_sel.csv')"
   ]
  },
  {
   "cell_type": "code",
   "execution_count": 3,
   "metadata": {},
   "outputs": [
    {
     "name": "stdout",
     "output_type": "stream",
     "text": [
      "Average recall@10 in 200 epochs:\n",
      " 0.009925558312655087\n"
     ]
    }
   ],
   "source": [
    "import random\n",
    "def rec_ran10(train,test):\n",
    "    train_items = list(set(df['mod_itemfullname']))\n",
    "    test_actual = list(test['mod_itemfullname'])\n",
    "    T = 0\n",
    "    for epo in range(200):\n",
    "        s = 0\n",
    "        for i in range(len(test)):\n",
    "            rand = random.sample(train_items,10) # random recommended list\n",
    "            if test_actual[i] in rand:\n",
    "                s+=1\n",
    "        rec10 = s/len(test)\n",
    "        T += rec10\n",
    "    T = T/200\n",
    "    print('Average recall@10 in 200 epochs:\\n',rec10)\n",
    "    \n",
    "# 80 train, 20 test\n",
    "train = df[0:4836]\n",
    "test = df[4836:]\n",
    "rec_ran10(train,test)"
   ]
  },
  {
   "cell_type": "markdown",
   "metadata": {},
   "source": [
    "# Random recommendation (week)"
   ]
  },
  {
   "cell_type": "code",
   "execution_count": 8,
   "metadata": {},
   "outputs": [],
   "source": [
    "df['user_id'] = pd.to_datetime(df['transaction_date']).apply(lambda time: time.dayofweek)"
   ]
  },
  {
   "cell_type": "code",
   "execution_count": 10,
   "metadata": {},
   "outputs": [
    {
     "name": "stdout",
     "output_type": "stream",
     "text": [
      "Average recall@10 in 200 epochs:\n",
      " 0.0206782464846981\n"
     ]
    }
   ],
   "source": [
    "def rec_ranweek(train,test):\n",
    "    test_actual = list(test['mod_itemfullname'])\n",
    "    test_userid = list(test['user_id'])\n",
    "    Each_day = {}\n",
    "    for i in range(7):\n",
    "        Each_day[i] = list(set(train[train['user_id']==list(train['user_id'])[i]]['mod_itemfullname'])) # monday\n",
    "\n",
    "    T = 0\n",
    "    for epo in range(200):    \n",
    "        s=0\n",
    "        for i in range(len(test_actual)):\n",
    "            idx = test_userid[i]\n",
    "            rand = random.sample(Each_day[idx],10)\n",
    "            if test_actual[i] in rand:\n",
    "                s+=1    \n",
    "        rec10 = s/len(test_actual)\n",
    "        T += rec10\n",
    "    T = T/200\n",
    "    print('Average recall@10 in 200 epochs:\\n',rec10)\n",
    "    \n",
    "# 80 train, 20 test\n",
    "train = df[0:4836]\n",
    "test = df[4836:]\n",
    "rec_ranweek(train,test)"
   ]
  },
  {
   "cell_type": "markdown",
   "metadata": {},
   "source": [
    "# Random recommendation (Time)"
   ]
  },
  {
   "cell_type": "code",
   "execution_count": 12,
   "metadata": {},
   "outputs": [
    {
     "name": "stderr",
     "output_type": "stream",
     "text": [
      "C:\\Users\\USER\\anaconda3\\lib\\site-packages\\ipykernel_launcher.py:18: SettingWithCopyWarning: \n",
      "A value is trying to be set on a copy of a slice from a DataFrame\n",
      "\n",
      "See the caveats in the documentation: https://pandas.pydata.org/pandas-docs/stable/user_guide/indexing.html#returning-a-view-versus-a-copy\n",
      "C:\\Users\\USER\\anaconda3\\lib\\site-packages\\ipykernel_launcher.py:8: SettingWithCopyWarning: \n",
      "A value is trying to be set on a copy of a slice from a DataFrame\n",
      "\n",
      "See the caveats in the documentation: https://pandas.pydata.org/pandas-docs/stable/user_guide/indexing.html#returning-a-view-versus-a-copy\n",
      "  \n",
      "C:\\Users\\USER\\anaconda3\\lib\\site-packages\\ipykernel_launcher.py:10: SettingWithCopyWarning: \n",
      "A value is trying to be set on a copy of a slice from a DataFrame\n",
      "\n",
      "See the caveats in the documentation: https://pandas.pydata.org/pandas-docs/stable/user_guide/indexing.html#returning-a-view-versus-a-copy\n",
      "  # Remove the CWD from sys.path while we load stuff.\n",
      "C:\\Users\\USER\\anaconda3\\lib\\site-packages\\ipykernel_launcher.py:12: SettingWithCopyWarning: \n",
      "A value is trying to be set on a copy of a slice from a DataFrame\n",
      "\n",
      "See the caveats in the documentation: https://pandas.pydata.org/pandas-docs/stable/user_guide/indexing.html#returning-a-view-versus-a-copy\n",
      "  if sys.path[0] == '':\n",
      "C:\\Users\\USER\\anaconda3\\lib\\site-packages\\ipykernel_launcher.py:14: SettingWithCopyWarning: \n",
      "A value is trying to be set on a copy of a slice from a DataFrame\n",
      "\n",
      "See the caveats in the documentation: https://pandas.pydata.org/pandas-docs/stable/user_guide/indexing.html#returning-a-view-versus-a-copy\n",
      "  \n",
      "C:\\Users\\USER\\anaconda3\\lib\\site-packages\\ipykernel_launcher.py:16: SettingWithCopyWarning: \n",
      "A value is trying to be set on a copy of a slice from a DataFrame\n",
      "\n",
      "See the caveats in the documentation: https://pandas.pydata.org/pandas-docs/stable/user_guide/indexing.html#returning-a-view-versus-a-copy\n",
      "  app.launch_new_instance()\n"
     ]
    }
   ],
   "source": [
    "from datetime import datetime\n",
    "df['user_id']= [0 for i in range(len(df))]\n",
    "\n",
    "for i in range(len(df)):\n",
    "    d_target = datetime.strptime(df['transaction_date'][i][11:], \"%H:%M:%S\")\n",
    "\n",
    "    if datetime.strptime('08:00:00', \"%H:%M:%S\") <= d_target < datetime.strptime('11:00:00', \"%H:%M:%S\"):\n",
    "        df['user_id'][i] = 0\n",
    "    elif datetime.strptime('11:00:00', \"%H:%M:%S\") <= d_target < datetime.strptime('14:00:00', \"%H:%M:%S\"):\n",
    "        df['user_id'][i] = 1 \n",
    "    elif datetime.strptime('14:00:00', \"%H:%M:%S\") <= d_target < datetime.strptime('17:00:00', \"%H:%M:%S\"):\n",
    "        df['user_id'][i] = 2 \n",
    "    elif datetime.strptime('17:00:00', \"%H:%M:%S\") <= d_target < datetime.strptime('20:00:00', \"%H:%M:%S\"):\n",
    "        df['user_id'][i] = 3 \n",
    "    elif datetime.strptime('20:00:00', \"%H:%M:%S\") <= d_target < datetime.strptime('23:59:59', \"%H:%M:%S\"):\n",
    "        df['user_id'][i] = 4\n",
    "    elif datetime.strptime('00:00:00', \"%H:%M:%S\") <= d_target < datetime.strptime('08:00:00', \"%H:%M:%S\"):\n",
    "        df['user_id'][i] = 5"
   ]
  },
  {
   "cell_type": "code",
   "execution_count": 13,
   "metadata": {},
   "outputs": [
    {
     "name": "stdout",
     "output_type": "stream",
     "text": [
      "Average recall@10 in 200 epochs:\n",
      " 0.03722084367245657\n"
     ]
    }
   ],
   "source": [
    "# 80 train, 20 test\n",
    "train = df[0:4836]\n",
    "test = df[4836:]\n",
    "rec_ranweek(train,test)"
   ]
  },
  {
   "cell_type": "markdown",
   "metadata": {},
   "source": [
    "# Random recommendation (week+time)"
   ]
  },
  {
   "cell_type": "code",
   "execution_count": 14,
   "metadata": {},
   "outputs": [
    {
     "name": "stderr",
     "output_type": "stream",
     "text": [
      "C:\\Users\\USER\\anaconda3\\lib\\site-packages\\ipykernel_launcher.py:19: SettingWithCopyWarning: \n",
      "A value is trying to be set on a copy of a slice from a DataFrame\n",
      "\n",
      "See the caveats in the documentation: https://pandas.pydata.org/pandas-docs/stable/user_guide/indexing.html#returning-a-view-versus-a-copy\n",
      "C:\\Users\\USER\\anaconda3\\lib\\site-packages\\ipykernel_launcher.py:9: SettingWithCopyWarning: \n",
      "A value is trying to be set on a copy of a slice from a DataFrame\n",
      "\n",
      "See the caveats in the documentation: https://pandas.pydata.org/pandas-docs/stable/user_guide/indexing.html#returning-a-view-versus-a-copy\n",
      "  if __name__ == '__main__':\n",
      "C:\\Users\\USER\\anaconda3\\lib\\site-packages\\ipykernel_launcher.py:11: SettingWithCopyWarning: \n",
      "A value is trying to be set on a copy of a slice from a DataFrame\n",
      "\n",
      "See the caveats in the documentation: https://pandas.pydata.org/pandas-docs/stable/user_guide/indexing.html#returning-a-view-versus-a-copy\n",
      "  # This is added back by InteractiveShellApp.init_path()\n",
      "C:\\Users\\USER\\anaconda3\\lib\\site-packages\\ipykernel_launcher.py:13: SettingWithCopyWarning: \n",
      "A value is trying to be set on a copy of a slice from a DataFrame\n",
      "\n",
      "See the caveats in the documentation: https://pandas.pydata.org/pandas-docs/stable/user_guide/indexing.html#returning-a-view-versus-a-copy\n",
      "  del sys.path[0]\n",
      "C:\\Users\\USER\\anaconda3\\lib\\site-packages\\ipykernel_launcher.py:15: SettingWithCopyWarning: \n",
      "A value is trying to be set on a copy of a slice from a DataFrame\n",
      "\n",
      "See the caveats in the documentation: https://pandas.pydata.org/pandas-docs/stable/user_guide/indexing.html#returning-a-view-versus-a-copy\n",
      "  from ipykernel import kernelapp as app\n",
      "C:\\Users\\USER\\anaconda3\\lib\\site-packages\\ipykernel_launcher.py:17: SettingWithCopyWarning: \n",
      "A value is trying to be set on a copy of a slice from a DataFrame\n",
      "\n",
      "See the caveats in the documentation: https://pandas.pydata.org/pandas-docs/stable/user_guide/indexing.html#returning-a-view-versus-a-copy\n"
     ]
    }
   ],
   "source": [
    "df['user_id1'] = pd.to_datetime(df['transaction_date']).apply(lambda time: time.dayofweek)\n",
    "df['user_id'] = [0 for i in range(len(df))]\n",
    "for i in range(len(df['transaction_date'])):\n",
    "    d_target = datetime.strptime(df['transaction_date'][i][11:], \"%H:%M:%S\")\n",
    "    \n",
    "    for j in range(7):\n",
    "        if df['user_id1'][i]==j:  # Monday\n",
    "            if datetime.strptime('08:00:00', \"%H:%M:%S\") <= d_target < datetime.strptime('11:00:00', \"%H:%M:%S\"):\n",
    "                df['user_id'][i] = j*6\n",
    "            elif datetime.strptime('11:00:00', \"%H:%M:%S\") <= d_target < datetime.strptime('14:00:00', \"%H:%M:%S\"):\n",
    "                df['user_id'][i] = j*6+1 \n",
    "            elif datetime.strptime('14:00:00', \"%H:%M:%S\") <= d_target < datetime.strptime('17:00:00', \"%H:%M:%S\"):\n",
    "                df['user_id'][i] = j*6+2  \n",
    "            elif datetime.strptime('17:00:00', \"%H:%M:%S\") <= d_target < datetime.strptime('20:00:00', \"%H:%M:%S\"):\n",
    "                df['user_id'][i] = j*6+3  \n",
    "            elif datetime.strptime('20:00:00', \"%H:%M:%S\") <= d_target < datetime.strptime('23:59:59', \"%H:%M:%S\"):\n",
    "                df['user_id'][i] = j*6+4 \n",
    "            elif datetime.strptime('00:00:00', \"%H:%M:%S\") <= d_target < datetime.strptime('08:00:00', \"%H:%M:%S\"):\n",
    "                df['user_id'][i] = j*6+5    "
   ]
  },
  {
   "cell_type": "code",
   "execution_count": 16,
   "metadata": {},
   "outputs": [
    {
     "name": "stdout",
     "output_type": "stream",
     "text": [
      "Average recall@10 in 200 epochs:\n",
      " 0.043837882547559964\n"
     ]
    }
   ],
   "source": [
    "def rec_ranweek(train,test):\n",
    "    test_actual = list(test['mod_itemfullname'])\n",
    "    test_userid = list(test['user_id'])\n",
    "    Each_day = {}\n",
    "    for i in range(42):\n",
    "        Each_day[i] = list(set(train[train['user_id']==list(train['user_id'])[i]]['mod_itemfullname'])) \n",
    "\n",
    "    T = 0\n",
    "    for epo in range(200):    \n",
    "        s=0\n",
    "        for i in range(len(test_actual)):\n",
    "            idx = test_userid[i]\n",
    "            rand = random.sample(Each_day[idx],10)\n",
    "            if test_actual[i] in rand:\n",
    "                s+=1    \n",
    "        rec10 = s/len(test_actual)\n",
    "        T += rec10\n",
    "    T = T/200\n",
    "    print('Average recall@10 in 200 epochs:\\n',rec10)\n",
    "\n",
    "# 80 train, 20 test\n",
    "train = df[0:4836]\n",
    "test = df[4836:]\n",
    "rec_ranweek(train,test)"
   ]
  }
 ],
 "metadata": {
  "kernelspec": {
   "display_name": "Python 3",
   "language": "python",
   "name": "python3"
  },
  "language_info": {
   "codemirror_mode": {
    "name": "ipython",
    "version": 3
   },
   "file_extension": ".py",
   "mimetype": "text/x-python",
   "name": "python",
   "nbconvert_exporter": "python",
   "pygments_lexer": "ipython3",
   "version": "3.7.6"
  }
 },
 "nbformat": 4,
 "nbformat_minor": 4
}
