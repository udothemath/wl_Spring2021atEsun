{
 "cells": [
  {
   "cell_type": "markdown",
   "metadata": {},
   "source": [
    "# Recommendation based on top 10 sales items (whole)"
   ]
  },
  {
   "cell_type": "code",
   "execution_count": 4,
   "metadata": {},
   "outputs": [],
   "source": [
    "import pandas as pd\n",
    "pd.options.mode.chained_assignment = None # hide SettingWithCopyWarning\n",
    "\n",
    "df = pd.read_csv('D:/data_encoding_sel.csv')"
   ]
  },
  {
   "cell_type": "code",
   "execution_count": 6,
   "metadata": {},
   "outputs": [
    {
     "name": "stdout",
     "output_type": "stream",
     "text": [
      "Top 5 highest brought (item,counts):\n",
      " [(537, 103), (465, 94), (659, 82), (330, 76), (597, 76)]\n",
      "\n",
      "Recommend list: [537, 465, 659, 330, 597]\n",
      "Recall@5: 0.04466501240694789\n"
     ]
    }
   ],
   "source": [
    "def Rec_10(train,test,recall_num):\n",
    "    # Calculate best 10 sell in training\n",
    "    D = {}\n",
    "    for i in train['mod_itemfullname']:\n",
    "        D[i]= len(train[train['mod_itemfullname']==i]['mod_itemfullname'])\n",
    "\n",
    "    # Sort dictionary in descending order    \n",
    "    import operator\n",
    "    sorted_d = dict( sorted(D.items(), key=operator.itemgetter(1),reverse=True))\n",
    "\n",
    "    # Get first 10 hightest brought items\n",
    "    from itertools import islice\n",
    "    H = list(islice(sorted_d.items(), recall_num))\n",
    "    print(f'Top {recall_num} highest brought (item,counts):\\n',H)\n",
    "\n",
    "    # Recommend list\n",
    "    Rec_list = [i[0] for i in H]\n",
    "    print('\\nRecommend list:',Rec_list)\n",
    "\n",
    "    # Recall@10\n",
    "    rec10 = sum([1 for i in list(test['mod_itemfullname']) if i in Rec_list ])/len(list(test['mod_itemfullname']))\n",
    "    print(f'Recall@{recall_num}:',rec10)\n",
    "\n",
    "# 80 train, 20 test\n",
    "train = df[0:4836]\n",
    "test = df[4836:]    \n",
    "Rec_10(train,test,5)"
   ]
  },
  {
   "cell_type": "markdown",
   "metadata": {},
   "source": [
    "# Recommendation based on top 10 sales items (week)"
   ]
  },
  {
   "cell_type": "code",
   "execution_count": 42,
   "metadata": {},
   "outputs": [],
   "source": [
    "from itertools import islice\n",
    "import operator\n",
    "df['user_id'] = pd.to_datetime(df['transaction_date']).apply(lambda time: time.dayofweek)"
   ]
  },
  {
   "cell_type": "code",
   "execution_count": 43,
   "metadata": {},
   "outputs": [
    {
     "name": "stdout",
     "output_type": "stream",
     "text": [
      "Monday recommended list: [537, 330, 464]\n",
      "Tuesday recommended list: [537, 531, 659]\n",
      "Wednesday recommended list: [465, 330, 407]\n",
      "Thursday recommended list: [413, 407, 659]\n",
      "Friday recommended list: [597, 354, 465]\n",
      "Saturday recommended list: [597, 659, 465]\n",
      "Sunday recommended list: [659, 440, 120]\n",
      "42\n",
      "\n",
      "MRR:  0.0458449439216369\n",
      "Recall@3:  0.034739454094292806\n"
     ]
    }
   ],
   "source": [
    "\n",
    "def Rec_week(train,test,recall_num):    \n",
    "    test_actual = list(test['mod_itemfullname'])\n",
    "    \n",
    "    def Rec_list(idx,Day):\n",
    "        M = train[train['user_id']==idx]\n",
    "        D = {}\n",
    "        for i in M['mod_itemfullname']:\n",
    "            D[i]= len(M[M['mod_itemfullname']==i]['mod_itemfullname'])\n",
    "\n",
    "        # Sort dictionary in descending order    \n",
    "        sorted_d = dict( sorted(D.items(), key=operator.itemgetter(1),reverse=True))\n",
    "        \n",
    "        # Get first 10 hightest brought items\n",
    "        H = list(islice(sorted_d.items(), len(sorted_d)))\n",
    "        #print('Top 10 highest brought (item,counts):\\n',H)\n",
    "\n",
    "        # Recommend list\n",
    "        Rec_list = [i[0] for i in H]\n",
    "        print('{} recommended list:'.format(Day),Rec_list[0:recall_num])\n",
    "        return Rec_list\n",
    "\n",
    "    # Best 10 sales items for everday\n",
    "    L = ['Monday','Tuesday','Wednesday','Thursday','Friday','Saturday','Sunday']\n",
    "    List_saved = {}\n",
    "    for idx,Day in enumerate(L):\n",
    "        List_saved[idx] = Rec_list(idx,Day)\n",
    "\n",
    "\n",
    "    MRR_res = 0\n",
    "    s = 0\n",
    "    for i in range(len(test)):\n",
    "        if test_actual[i] in List_saved[list(test['user_id'])[i]]:\n",
    "            idx = List_saved[list(test['user_id'])[i]].index(test_actual[i])\n",
    "            MRR_res += 1/(idx+1)    \n",
    "        \n",
    "            if test_actual[i] in List_saved[list(test['user_id'])[i]][0:recall_num]:\n",
    "                s+=1\n",
    "    print(s)\n",
    "    print('\\nMRR: ',MRR_res/len(test_actual))\n",
    "    print(f'Recall@{recall_num}: ',s/len(test_actual))\n",
    "\n",
    "# 80 train, 20 test\n",
    "train = df[0:4836]\n",
    "test = df[4836:]\n",
    "Rec_week(train,test,3)"
   ]
  },
  {
   "cell_type": "markdown",
   "metadata": {},
   "source": [
    "# Recommendation based on top 10 sales items (time)"
   ]
  },
  {
   "cell_type": "code",
   "execution_count": 40,
   "metadata": {},
   "outputs": [],
   "source": [
    "from datetime import datetime\n",
    "df['user_id']= [0 for i in range(len(df))]\n",
    "\n",
    "for i in range(len(df)):\n",
    "    d_target = datetime.strptime(df['transaction_date'][i][11:], \"%H:%M:%S\")\n",
    "\n",
    "    if datetime.strptime('08:00:00', \"%H:%M:%S\") <= d_target < datetime.strptime('11:00:00', \"%H:%M:%S\"):\n",
    "        df['user_id'][i] = 0\n",
    "    elif datetime.strptime('11:00:00', \"%H:%M:%S\") <= d_target < datetime.strptime('14:00:00', \"%H:%M:%S\"):\n",
    "        df['user_id'][i] = 1 \n",
    "    elif datetime.strptime('14:00:00', \"%H:%M:%S\") <= d_target < datetime.strptime('17:00:00', \"%H:%M:%S\"):\n",
    "        df['user_id'][i] = 2 \n",
    "    elif datetime.strptime('17:00:00', \"%H:%M:%S\") <= d_target < datetime.strptime('20:00:00', \"%H:%M:%S\"):\n",
    "        df['user_id'][i] = 3 \n",
    "    elif datetime.strptime('20:00:00', \"%H:%M:%S\") <= d_target < datetime.strptime('23:59:59', \"%H:%M:%S\"):\n",
    "        df['user_id'][i] = 4\n",
    "    elif datetime.strptime('00:00:00', \"%H:%M:%S\") <= d_target < datetime.strptime('08:00:00', \"%H:%M:%S\"):\n",
    "        df['user_id'][i] = 5"
   ]
  },
  {
   "cell_type": "code",
   "execution_count": 41,
   "metadata": {},
   "outputs": [
    {
     "name": "stdout",
     "output_type": "stream",
     "text": [
      "08.00-11.00 recommended list: [531, 118, 306]\n",
      "11.00-14.00 recommended list: [465, 464, 659]\n",
      "14.00-17.00 recommended list: [330, 407, 597]\n",
      "17.00-20.00 recommended list: [537, 659, 407]\n",
      "20.00-00.00 recommended list: [199, 330, 169]\n",
      "00.00-08.00 recommended list: [231, 413, 514]\n",
      "74\n",
      "\n",
      "MRR:  0.06790639505173728\n",
      "Recall@3: 0.06120760959470637\n"
     ]
    }
   ],
   "source": [
    "def Rec_time(train,test,recall_num):    \n",
    "    test_actual = list(test['mod_itemfullname'])\n",
    "    \n",
    "    def Rec_list(idx,Day):\n",
    "        M = train[train['user_id']==idx]\n",
    "        D = {}\n",
    "        for i in M['mod_itemfullname']:\n",
    "            D[i]= len(M[M['mod_itemfullname']==i]['mod_itemfullname'])\n",
    "\n",
    "        # Sort dictionary in descending order    \n",
    "        sorted_d = dict( sorted(D.items(), key=operator.itemgetter(1),reverse=True))\n",
    "\n",
    "        # Get first 10 hightest brought items\n",
    "        H = list(islice(sorted_d.items(), len(sorted_d)))\n",
    "        #print('Top 10 highest brought (item,counts):\\n',H)\n",
    "\n",
    "        # Recommend list\n",
    "        Rec_list = [i[0] for i in H]\n",
    "        print('{} recommended list:'.format(Day),Rec_list[0:recall_num])\n",
    "        return Rec_list\n",
    "\n",
    "    # Best 10 sales items for time\n",
    "    L = ['08.00-11.00','11.00-14.00','14.00-17.00','17.00-20.00','20.00-00.00','00.00-08.00']\n",
    "    List_saved = {}\n",
    "    for idx,Day in enumerate(L):\n",
    "        List_saved[idx] = Rec_list(idx,Day)\n",
    "\n",
    "    MRR_res = 0\n",
    "    s = 0\n",
    "    for i in range(len(test)):\n",
    "        if test_actual[i] in List_saved[list(test['user_id'])[i]]:\n",
    "            idx = List_saved[list(test['user_id'])[i]].index(test_actual[i])\n",
    "            MRR_res += 1/(idx+1)    \n",
    "        \n",
    "            if test_actual[i] in List_saved[list(test['user_id'])[i]][0:recall_num]:\n",
    "                s+=1\n",
    "\n",
    "    print(s)\n",
    "    print('\\nMRR: ',MRR_res/len(test_actual))\n",
    "    print(f'Recall@{recall_num}:',s/len(test_actual))\n",
    "\n",
    "# 80 train, 20 test\n",
    "train = df[0:4836]\n",
    "test = df[4836:]\n",
    "Rec_time(train,test,3)"
   ]
  },
  {
   "cell_type": "code",
   "execution_count": 17,
   "metadata": {},
   "outputs": [
    {
     "name": "stdout",
     "output_type": "stream",
     "text": [
      "08.00-11.00 recommended list: [531, 118, 306]\n",
      "11.00-14.00 recommended list: [465, 464, 659]\n",
      "14.00-17.00 recommended list: [330, 407, 597]\n",
      "17.00-20.00 recommended list: [537, 659, 407]\n",
      "20.00-00.00 recommended list: [199, 330, 169]\n",
      "00.00-08.00 recommended list: [231, 413, 514]\n",
      "74\n",
      "\n",
      "MRR:  0.02737703194172884\n",
      "Recall@3: 0.06120760959470637\n"
     ]
    }
   ],
   "source": [
    "def Rec_time(train,test,recall_num):    \n",
    "    test_actual = list(test['mod_itemfullname'])\n",
    "    \n",
    "    def Rec_list(idx,Day):\n",
    "        M = train[train['user_id']==idx]\n",
    "        D = {}\n",
    "        for i in M['mod_itemfullname']:\n",
    "            D[i]= len(M[M['mod_itemfullname']==i]['mod_itemfullname'])\n",
    "\n",
    "        # Sort dictionary in descending order    \n",
    "        sorted_d = dict( sorted(D.items(), key=operator.itemgetter(1),reverse=True))\n",
    "\n",
    "        # Get first 10 hightest brought items\n",
    "        H = list(islice(sorted_d.items(), len(sorted_d)))\n",
    "        #print('Top 10 highest brought (item,counts):\\n',H)\n",
    "\n",
    "        # Recommend list\n",
    "        Rec_list = [i[0] for i in H]\n",
    "        print('{} recommended list:'.format(Day),Rec_list[0:recall_num])\n",
    "        return Rec_list\n",
    "\n",
    "    # Best 10 sales items for time\n",
    "    L = ['08.00-11.00','11.00-14.00','14.00-17.00','17.00-20.00','20.00-00.00','00.00-08.00']\n",
    "    List_saved = {}\n",
    "    for idx,Day in enumerate(L):\n",
    "        List_saved[idx] = Rec_list(idx,Day)\n",
    "\n",
    "    MRR_res = 0\n",
    "    s = 0\n",
    "    for i in range(len(test)):\n",
    "        if test_actual[i] in List_saved[list(test['user_id'])[i]][0:recall_num]:\n",
    "            s+=1\n",
    "        elif test_actual[i] in List_saved[list(test['user_id'])[i]]:\n",
    "            idx = List_saved[list(test['user_id'])[i]].index(test_actual[i])\n",
    "            MRR_res += 1/(idx+1)\n",
    "\n",
    "    print(s)\n",
    "    print('\\nMRR: ',MRR_res/len(test_actual))\n",
    "    print(f'Recall@{recall_num}:',s/len(test_actual))\n",
    "\n",
    "# 80 train, 20 test\n",
    "train = df[0:4836]\n",
    "test = df[4836:]\n",
    "Rec_time(train,test,3)"
   ]
  },
  {
   "cell_type": "markdown",
   "metadata": {},
   "source": [
    "# Recommendation based on top 10 sales items (week and time)"
   ]
  },
  {
   "cell_type": "code",
   "execution_count": 37,
   "metadata": {},
   "outputs": [],
   "source": [
    "df['user_id1'] = pd.to_datetime(df['transaction_date']).apply(lambda time: time.dayofweek)\n",
    "df['user_id'] = [0 for i in range(len(df))]"
   ]
  },
  {
   "cell_type": "code",
   "execution_count": 38,
   "metadata": {},
   "outputs": [],
   "source": [
    "for i in range(len(df['transaction_date'])):\n",
    "    d_target = datetime.strptime(df['transaction_date'][i][11:], \"%H:%M:%S\")\n",
    "    \n",
    "    for j in range(7):\n",
    "        if df['user_id1'][i]==j:  # Monday\n",
    "            if datetime.strptime('08:00:00', \"%H:%M:%S\") <= d_target < datetime.strptime('11:00:00', \"%H:%M:%S\"):\n",
    "                df['user_id'][i] = j*6\n",
    "            elif datetime.strptime('11:00:00', \"%H:%M:%S\") <= d_target < datetime.strptime('14:00:00', \"%H:%M:%S\"):\n",
    "                df['user_id'][i] = j*6+1 \n",
    "            elif datetime.strptime('14:00:00', \"%H:%M:%S\") <= d_target < datetime.strptime('17:00:00', \"%H:%M:%S\"):\n",
    "                df['user_id'][i] = j*6+2  \n",
    "            elif datetime.strptime('17:00:00', \"%H:%M:%S\") <= d_target < datetime.strptime('20:00:00', \"%H:%M:%S\"):\n",
    "                df['user_id'][i] = j*6+3  \n",
    "            elif datetime.strptime('20:00:00', \"%H:%M:%S\") <= d_target < datetime.strptime('23:59:59', \"%H:%M:%S\"):\n",
    "                df['user_id'][i] = j*6+4 \n",
    "            elif datetime.strptime('00:00:00', \"%H:%M:%S\") <= d_target < datetime.strptime('08:00:00', \"%H:%M:%S\"):\n",
    "                df['user_id'][i] = j*6+5"
   ]
  },
  {
   "cell_type": "code",
   "execution_count": 39,
   "metadata": {},
   "outputs": [
    {
     "name": "stdout",
     "output_type": "stream",
     "text": [
      "0 recommended list: [531, 306, 75]\n",
      "1 recommended list: [464, 465, 466]\n",
      "2 recommended list: [304, 330, 306]\n",
      "3 recommended list: [537, 407, 145]\n",
      "4 recommended list: [174, 456, 38]\n",
      "5 recommended list: [231, 693, 413]\n",
      "6 recommended list: [531, 306, 118]\n",
      "7 recommended list: [537, 465, 659]\n",
      "8 recommended list: [537, 145, 134]\n",
      "9 recommended list: [537, 330, 531]\n",
      "10 recommended list: [513, 666, 200]\n",
      "11 recommended list: [413, 231, 304]\n",
      "12 recommended list: [306, 531, 118]\n",
      "13 recommended list: [465, 466, 309]\n",
      "14 recommended list: [145, 111, 694]\n",
      "15 recommended list: [407, 121, 664]\n",
      "16 recommended list: [330, 114, 102]\n",
      "17 recommended list: [330, 306, 413]\n",
      "18 recommended list: [531, 533, 304]\n",
      "19 recommended list: [413, 420, 465]\n",
      "20 recommended list: [507, 407, 413]\n",
      "21 recommended list: [659, 146, 290]\n",
      "22 recommended list: [169, 659, 684]\n",
      "23 recommended list: [306, 304, 231]\n",
      "24 recommended list: [531, 118, 120]\n",
      "25 recommended list: [354, 465, 464]\n",
      "26 recommended list: [597, 407, 134]\n",
      "27 recommended list: [597, 17, 659]\n",
      "28 recommended list: [330, 244, 687]\n",
      "29 recommended list: [231, 717, 693]\n",
      "30 recommended list: [413, 200, 118]\n",
      "31 recommended list: [597, 659, 465]\n",
      "32 recommended list: [330, 200, 199]\n",
      "33 recommended list: [597, 659, 703]\n",
      "34 recommended list: [597, 717, 171]\n",
      "35 recommended list: [195, 532, 231]\n",
      "36 recommended list: [134, 109, 169]\n",
      "37 recommended list: [168, 170, 557]\n",
      "38 recommended list: [330, 144, 125]\n",
      "39 recommended list: [659, 494, 440]\n",
      "40 recommended list: [227, 306, 441]\n",
      "41 recommended list: [231, 440, 120]\n",
      "56\n",
      "\n",
      "MRR:  0.05203633505132186\n",
      "Recall@3: 0.04631927212572374\n"
     ]
    }
   ],
   "source": [
    "def Rec_weektime(train,test,recall_num):    \n",
    "    test_actual = list(test['mod_itemfullname'])\n",
    "    \n",
    "    def Rec_list(idx,time):\n",
    "        \n",
    "        M = train[train['user_id']==idx]\n",
    "        D = {}\n",
    "        for i in M['mod_itemfullname']:\n",
    "            D[i]= len(M[M['mod_itemfullname']==i]['mod_itemfullname'])\n",
    "\n",
    "        # Sort dictionary in descending order    \n",
    "        sorted_d = dict( sorted(D.items(), key=operator.itemgetter(1),reverse=True))\n",
    "\n",
    "        # Get first 10 hightest brought items\n",
    "        H = list(islice(sorted_d.items(), len(sorted_d)))\n",
    "        #print('Top 10 highest brought (item,counts):\\n',H)\n",
    "\n",
    "        # Recommend list\n",
    "        Rec_list = [i[0] for i in H]\n",
    "        print('{} recommended list:'.format(time),Rec_list[0:recall_num])\n",
    "        return Rec_list\n",
    "\n",
    "    T = [q for q in range(42)] \n",
    "    \n",
    "    List_saved = {}\n",
    "    for idx,time in enumerate(T):\n",
    "        List_saved[idx] = Rec_list(idx,time)\n",
    "\n",
    "    MRR_res = 0\n",
    "    s = 0\n",
    "    for i in range(len(test)):\n",
    "        if test_actual[i] in List_saved[list(test['user_id'])[i]]:\n",
    "            idx = List_saved[list(test['user_id'])[i]].index(test_actual[i])\n",
    "            MRR_res += 1/(idx+1)    \n",
    "        \n",
    "            if test_actual[i] in List_saved[list(test['user_id'])[i]][0:recall_num]:\n",
    "                s+=1\n",
    "    print(s)\n",
    "    print('\\nMRR: ',MRR_res/len(test_actual))\n",
    "    print(f'Recall@{recall_num}:',s/len(test_actual))\n",
    "\n",
    "\n",
    "# 80 train, 20 test\n",
    "train = df[0:4836]\n",
    "test = df[4836:]\n",
    "Rec_weektime(train,test,3)"
   ]
  },
  {
   "cell_type": "code",
   "execution_count": null,
   "metadata": {},
   "outputs": [],
   "source": []
  }
 ],
 "metadata": {
  "kernelspec": {
   "display_name": "Python 3",
   "language": "python",
   "name": "python3"
  },
  "language_info": {
   "codemirror_mode": {
    "name": "ipython",
    "version": 3
   },
   "file_extension": ".py",
   "mimetype": "text/x-python",
   "name": "python",
   "nbconvert_exporter": "python",
   "pygments_lexer": "ipython3",
   "version": "3.7.6"
  }
 },
 "nbformat": 4,
 "nbformat_minor": 4
}
