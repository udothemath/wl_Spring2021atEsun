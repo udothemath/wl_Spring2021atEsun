{
 "cells": [
  {
   "cell_type": "markdown",
   "metadata": {},
   "source": [
    "# Recommendation based on top 10 sales items (whole)"
   ]
  },
  {
   "cell_type": "code",
   "execution_count": 2,
   "metadata": {},
   "outputs": [],
   "source": [
    "import pandas as pd\n",
    "df = pd.read_csv('D:/data_encoding_sel.csv')"
   ]
  },
  {
   "cell_type": "code",
   "execution_count": 4,
   "metadata": {},
   "outputs": [
    {
     "name": "stdout",
     "output_type": "stream",
     "text": [
      "Top 10 highest brought (item,counts):\n",
      " [(537, 103), (465, 94), (659, 82), (330, 76), (597, 76), (413, 73), (407, 71), (531, 67), (306, 66), (309, 57)]\n",
      "\n",
      "Recommend list: [537, 465, 659, 330, 597, 413, 407, 531, 306, 309]\n",
      "Recall@10: 0.10587262200165426\n"
     ]
    }
   ],
   "source": [
    "def Rec_10(train,test):\n",
    "    # Calculate best 10 sell in training\n",
    "    D = {}\n",
    "    for i in train['mod_itemfullname']:\n",
    "        D[i]= len(train[train['mod_itemfullname']==i]['mod_itemfullname'])\n",
    "\n",
    "    # Sort dictionary in descending order    \n",
    "    import operator\n",
    "    sorted_d = dict( sorted(D.items(), key=operator.itemgetter(1),reverse=True))\n",
    "\n",
    "    # Get first 10 hightest brought items\n",
    "    from itertools import islice\n",
    "    H = list(islice(sorted_d.items(), 10))\n",
    "    print('Top 10 highest brought (item,counts):\\n',H)\n",
    "\n",
    "    # Recommend list\n",
    "    Rec_list = [i[0] for i in H]\n",
    "    print('\\nRecommend list:',Rec_list)\n",
    "\n",
    "    # Recall@10\n",
    "    rec10 = sum([1 for i in list(test['mod_itemfullname']) if i in Rec_list ])/len(list(test['mod_itemfullname']))\n",
    "    print('Recall@10:',rec10)\n",
    "\n",
    "# 80 train, 20 test\n",
    "train = df[0:4836]\n",
    "test = df[4836:]    \n",
    "Rec_10(train,test)"
   ]
  },
  {
   "cell_type": "markdown",
   "metadata": {},
   "source": [
    "# Recommendation based on top 10 sales items (week)"
   ]
  },
  {
   "cell_type": "code",
   "execution_count": 5,
   "metadata": {},
   "outputs": [],
   "source": [
    "from itertools import islice\n",
    "import operator\n",
    "df['user_id'] = pd.to_datetime(df['transaction_date']).apply(lambda time: time.dayofweek)"
   ]
  },
  {
   "cell_type": "code",
   "execution_count": 6,
   "metadata": {},
   "outputs": [
    {
     "name": "stdout",
     "output_type": "stream",
     "text": [
      "Monday recommended list: [537, 330, 464, 306, 304, 413, 465, 407, 531, 309]\n",
      "Tuesday recommended list: [537, 531, 659, 413, 330, 465, 407, 306, 466, 309]\n",
      "Wednesday recommended list: [465, 330, 407, 145, 118, 306, 531, 413, 199, 309]\n",
      "Thursday recommended list: [413, 407, 659, 199, 531, 306, 420, 465, 519, 146]\n",
      "Friday recommended list: [597, 354, 465, 464, 717, 118, 309, 330, 642, 413]\n",
      "Saturday recommended list: [597, 659, 465, 200, 330, 146, 717, 302, 199, 512]\n",
      "Sunday recommended list: [659, 440, 120, 557, 125, 231, 134, 109, 95, 330]\n",
      "\n",
      "Recall@10:  0.1141439205955335\n"
     ]
    }
   ],
   "source": [
    "def Rec_week(train,test):    \n",
    "    test_actual = list(test['mod_itemfullname'])\n",
    "    \n",
    "    def Rec_list(idx,Day):\n",
    "        M = train[train['user_id']==idx]\n",
    "        D = {}\n",
    "        for i in M['mod_itemfullname']:\n",
    "            D[i]= len(M[M['mod_itemfullname']==i]['mod_itemfullname'])\n",
    "\n",
    "        # Sort dictionary in descending order    \n",
    "        sorted_d = dict( sorted(D.items(), key=operator.itemgetter(1),reverse=True))\n",
    "\n",
    "        # Get first 10 hightest brought items\n",
    "        H = list(islice(sorted_d.items(), 10))\n",
    "        #print('Top 10 highest brought (item,counts):\\n',H)\n",
    "\n",
    "        # Recommend list\n",
    "        Rec_list = [i[0] for i in H]\n",
    "        print('{} recommended list:'.format(Day),Rec_list)\n",
    "        return Rec_list\n",
    "\n",
    "    # Best 10 sales items for everday\n",
    "    L = ['Monday','Tuesday','Wednesday','Thursday','Friday','Saturday','Sunday']\n",
    "    List_saved = {}\n",
    "    for idx,Day in enumerate(L):\n",
    "        List_saved[idx] = Rec_list(idx,Day)\n",
    "\n",
    "    s = 0\n",
    "    for i in range(len(test)):\n",
    "        if test_actual[i] in List_saved[list(test['user_id'])[i]]:\n",
    "            s+=1\n",
    "    print('\\nRecall@10: ',s/len(test_actual))\n",
    "\n",
    "# 80 train, 20 test\n",
    "train = df[0:4836]\n",
    "test = df[4836:]\n",
    "Rec_week(train,test)"
   ]
  },
  {
   "cell_type": "markdown",
   "metadata": {},
   "source": [
    "# Recommendation based on top 10 sales items (time)"
   ]
  },
  {
   "cell_type": "code",
   "execution_count": 9,
   "metadata": {},
   "outputs": [
    {
     "name": "stderr",
     "output_type": "stream",
     "text": [
      "C:\\Users\\USER\\anaconda3\\lib\\site-packages\\ipykernel_launcher.py:18: SettingWithCopyWarning: \n",
      "A value is trying to be set on a copy of a slice from a DataFrame\n",
      "\n",
      "See the caveats in the documentation: https://pandas.pydata.org/pandas-docs/stable/user_guide/indexing.html#returning-a-view-versus-a-copy\n",
      "C:\\Users\\USER\\anaconda3\\lib\\site-packages\\ipykernel_launcher.py:8: SettingWithCopyWarning: \n",
      "A value is trying to be set on a copy of a slice from a DataFrame\n",
      "\n",
      "See the caveats in the documentation: https://pandas.pydata.org/pandas-docs/stable/user_guide/indexing.html#returning-a-view-versus-a-copy\n",
      "  \n",
      "C:\\Users\\USER\\anaconda3\\lib\\site-packages\\ipykernel_launcher.py:10: SettingWithCopyWarning: \n",
      "A value is trying to be set on a copy of a slice from a DataFrame\n",
      "\n",
      "See the caveats in the documentation: https://pandas.pydata.org/pandas-docs/stable/user_guide/indexing.html#returning-a-view-versus-a-copy\n",
      "  # Remove the CWD from sys.path while we load stuff.\n",
      "C:\\Users\\USER\\anaconda3\\lib\\site-packages\\ipykernel_launcher.py:12: SettingWithCopyWarning: \n",
      "A value is trying to be set on a copy of a slice from a DataFrame\n",
      "\n",
      "See the caveats in the documentation: https://pandas.pydata.org/pandas-docs/stable/user_guide/indexing.html#returning-a-view-versus-a-copy\n",
      "  if sys.path[0] == '':\n",
      "C:\\Users\\USER\\anaconda3\\lib\\site-packages\\ipykernel_launcher.py:14: SettingWithCopyWarning: \n",
      "A value is trying to be set on a copy of a slice from a DataFrame\n",
      "\n",
      "See the caveats in the documentation: https://pandas.pydata.org/pandas-docs/stable/user_guide/indexing.html#returning-a-view-versus-a-copy\n",
      "  \n",
      "C:\\Users\\USER\\anaconda3\\lib\\site-packages\\ipykernel_launcher.py:16: SettingWithCopyWarning: \n",
      "A value is trying to be set on a copy of a slice from a DataFrame\n",
      "\n",
      "See the caveats in the documentation: https://pandas.pydata.org/pandas-docs/stable/user_guide/indexing.html#returning-a-view-versus-a-copy\n",
      "  app.launch_new_instance()\n"
     ]
    }
   ],
   "source": [
    "from datetime import datetime\n",
    "df['user_id']= [0 for i in range(len(df))]\n",
    "\n",
    "for i in range(len(df)):\n",
    "    d_target = datetime.strptime(df['transaction_date'][i][11:], \"%H:%M:%S\")\n",
    "\n",
    "    if datetime.strptime('08:00:00', \"%H:%M:%S\") <= d_target < datetime.strptime('11:00:00', \"%H:%M:%S\"):\n",
    "        df['user_id'][i] = 0\n",
    "    elif datetime.strptime('11:00:00', \"%H:%M:%S\") <= d_target < datetime.strptime('14:00:00', \"%H:%M:%S\"):\n",
    "        df['user_id'][i] = 1 \n",
    "    elif datetime.strptime('14:00:00', \"%H:%M:%S\") <= d_target < datetime.strptime('17:00:00', \"%H:%M:%S\"):\n",
    "        df['user_id'][i] = 2 \n",
    "    elif datetime.strptime('17:00:00', \"%H:%M:%S\") <= d_target < datetime.strptime('20:00:00', \"%H:%M:%S\"):\n",
    "        df['user_id'][i] = 3 \n",
    "    elif datetime.strptime('20:00:00', \"%H:%M:%S\") <= d_target < datetime.strptime('23:59:59', \"%H:%M:%S\"):\n",
    "        df['user_id'][i] = 4\n",
    "    elif datetime.strptime('00:00:00', \"%H:%M:%S\") <= d_target < datetime.strptime('08:00:00', \"%H:%M:%S\"):\n",
    "        df['user_id'][i] = 5"
   ]
  },
  {
   "cell_type": "code",
   "execution_count": 10,
   "metadata": {},
   "outputs": [
    {
     "name": "stdout",
     "output_type": "stream",
     "text": [
      "08.00-11.00 recommended list: [531, 118, 306, 200, 530, 304, 642, 9, 433, 520]\n",
      "11.00-14.00 recommended list: [465, 464, 659, 309, 466, 537, 597, 413, 306, 354]\n",
      "14.00-17.00 recommended list: [330, 407, 597, 145, 557, 200, 304, 353, 134, 413]\n",
      "17.00-20.00 recommended list: [537, 659, 407, 330, 597, 38, 240, 199, 198, 121]\n",
      "20.00-00.00 recommended list: [199, 330, 169, 174, 16, 717, 557, 21, 457, 456]\n",
      "00.00-08.00 recommended list: [231, 413, 514, 306, 693, 531, 717, 304, 120, 695]\n",
      "\n",
      "Recall@10:  0.14309346567411083\n"
     ]
    }
   ],
   "source": [
    "def Rec_time(train,test):    \n",
    "    test_actual = list(test['mod_itemfullname'])\n",
    "    \n",
    "    def Rec_list(idx,Day):\n",
    "        M = train[train['user_id']==idx]\n",
    "        D = {}\n",
    "        for i in M['mod_itemfullname']:\n",
    "            D[i]= len(M[M['mod_itemfullname']==i]['mod_itemfullname'])\n",
    "\n",
    "        # Sort dictionary in descending order    \n",
    "        sorted_d = dict( sorted(D.items(), key=operator.itemgetter(1),reverse=True))\n",
    "\n",
    "        # Get first 10 hightest brought items\n",
    "        H = list(islice(sorted_d.items(), 10))\n",
    "        #print('Top 10 highest brought (item,counts):\\n',H)\n",
    "\n",
    "        # Recommend list\n",
    "        Rec_list = [i[0] for i in H]\n",
    "        print('{} recommended list:'.format(Day),Rec_list)\n",
    "        return Rec_list\n",
    "\n",
    "    # Best 10 sales items for time\n",
    "    L = ['08.00-11.00','11.00-14.00','14.00-17.00','17.00-20.00','20.00-00.00','00.00-08.00']\n",
    "    List_saved = {}\n",
    "    for idx,Day in enumerate(L):\n",
    "        List_saved[idx] = Rec_list(idx,Day)\n",
    "\n",
    "    s = 0\n",
    "    for i in range(len(test)):\n",
    "        if test_actual[i] in List_saved[list(test['user_id'])[i]]:\n",
    "            s+=1\n",
    "    print('\\nRecall@10: ',s/len(test_actual))\n",
    "\n",
    "# 80 train, 20 test\n",
    "train = df[0:4836]\n",
    "test = df[4836:]\n",
    "Rec_time(train,test)"
   ]
  },
  {
   "cell_type": "markdown",
   "metadata": {},
   "source": [
    "# Recommendation based on top 10 sales items (week and time)"
   ]
  },
  {
   "cell_type": "code",
   "execution_count": 11,
   "metadata": {},
   "outputs": [],
   "source": [
    "df['user_id1'] = pd.to_datetime(df['transaction_date']).apply(lambda time: time.dayofweek)\n",
    "df['user_id'] = [0 for i in range(len(df))]"
   ]
  },
  {
   "cell_type": "code",
   "execution_count": 13,
   "metadata": {},
   "outputs": [
    {
     "name": "stderr",
     "output_type": "stream",
     "text": [
      "C:\\Users\\USER\\anaconda3\\lib\\site-packages\\ipykernel_launcher.py:17: SettingWithCopyWarning: \n",
      "A value is trying to be set on a copy of a slice from a DataFrame\n",
      "\n",
      "See the caveats in the documentation: https://pandas.pydata.org/pandas-docs/stable/user_guide/indexing.html#returning-a-view-versus-a-copy\n",
      "C:\\Users\\USER\\anaconda3\\lib\\site-packages\\ipykernel_launcher.py:7: SettingWithCopyWarning: \n",
      "A value is trying to be set on a copy of a slice from a DataFrame\n",
      "\n",
      "See the caveats in the documentation: https://pandas.pydata.org/pandas-docs/stable/user_guide/indexing.html#returning-a-view-versus-a-copy\n",
      "  import sys\n",
      "C:\\Users\\USER\\anaconda3\\lib\\site-packages\\ipykernel_launcher.py:9: SettingWithCopyWarning: \n",
      "A value is trying to be set on a copy of a slice from a DataFrame\n",
      "\n",
      "See the caveats in the documentation: https://pandas.pydata.org/pandas-docs/stable/user_guide/indexing.html#returning-a-view-versus-a-copy\n",
      "  if __name__ == '__main__':\n",
      "C:\\Users\\USER\\anaconda3\\lib\\site-packages\\ipykernel_launcher.py:11: SettingWithCopyWarning: \n",
      "A value is trying to be set on a copy of a slice from a DataFrame\n",
      "\n",
      "See the caveats in the documentation: https://pandas.pydata.org/pandas-docs/stable/user_guide/indexing.html#returning-a-view-versus-a-copy\n",
      "  # This is added back by InteractiveShellApp.init_path()\n",
      "C:\\Users\\USER\\anaconda3\\lib\\site-packages\\ipykernel_launcher.py:13: SettingWithCopyWarning: \n",
      "A value is trying to be set on a copy of a slice from a DataFrame\n",
      "\n",
      "See the caveats in the documentation: https://pandas.pydata.org/pandas-docs/stable/user_guide/indexing.html#returning-a-view-versus-a-copy\n",
      "  del sys.path[0]\n",
      "C:\\Users\\USER\\anaconda3\\lib\\site-packages\\ipykernel_launcher.py:15: SettingWithCopyWarning: \n",
      "A value is trying to be set on a copy of a slice from a DataFrame\n",
      "\n",
      "See the caveats in the documentation: https://pandas.pydata.org/pandas-docs/stable/user_guide/indexing.html#returning-a-view-versus-a-copy\n",
      "  from ipykernel import kernelapp as app\n"
     ]
    }
   ],
   "source": [
    "for i in range(len(df['transaction_date'])):\n",
    "    d_target = datetime.strptime(df['transaction_date'][i][11:], \"%H:%M:%S\")\n",
    "    \n",
    "    for j in range(7):\n",
    "        if df['user_id1'][i]==j:  # Monday\n",
    "            if datetime.strptime('08:00:00', \"%H:%M:%S\") <= d_target < datetime.strptime('11:00:00', \"%H:%M:%S\"):\n",
    "                df['user_id'][i] = j*6\n",
    "            elif datetime.strptime('11:00:00', \"%H:%M:%S\") <= d_target < datetime.strptime('14:00:00', \"%H:%M:%S\"):\n",
    "                df['user_id'][i] = j*6+1 \n",
    "            elif datetime.strptime('14:00:00', \"%H:%M:%S\") <= d_target < datetime.strptime('17:00:00', \"%H:%M:%S\"):\n",
    "                df['user_id'][i] = j*6+2  \n",
    "            elif datetime.strptime('17:00:00', \"%H:%M:%S\") <= d_target < datetime.strptime('20:00:00', \"%H:%M:%S\"):\n",
    "                df['user_id'][i] = j*6+3  \n",
    "            elif datetime.strptime('20:00:00', \"%H:%M:%S\") <= d_target < datetime.strptime('23:59:59', \"%H:%M:%S\"):\n",
    "                df['user_id'][i] = j*6+4 \n",
    "            elif datetime.strptime('00:00:00', \"%H:%M:%S\") <= d_target < datetime.strptime('08:00:00', \"%H:%M:%S\"):\n",
    "                df['user_id'][i] = j*6+5       "
   ]
  },
  {
   "cell_type": "code",
   "execution_count": 14,
   "metadata": {},
   "outputs": [
    {
     "name": "stdout",
     "output_type": "stream",
     "text": [
      "0 recommended list: [531, 306, 75, 530, 100, 481, 413, 330, 304, 76]\n",
      "1 recommended list: [464, 465, 466, 537, 309, 413, 420, 344, 58, 330]\n",
      "2 recommended list: [304, 330, 306, 335, 407, 147, 512, 412, 531, 607]\n",
      "3 recommended list: [537, 407, 145, 330, 659, 240, 519, 353, 199, 698]\n",
      "4 recommended list: [174, 456, 38, 199, 594, 343, 407, 128, 309, 425]\n",
      "5 recommended list: [231, 693, 413, 74, 530, 514, 575, 199, 567, 453]\n",
      "6 recommended list: [531, 306, 118, 644, 694, 407, 75, 212, 530, 9]\n",
      "7 recommended list: [537, 465, 659, 466, 464, 575, 694, 642, 412, 119]\n",
      "8 recommended list: [537, 145, 134, 557, 353, 309, 330, 717, 51, 659]\n",
      "9 recommended list: [537, 330, 531, 607, 407, 413, 198, 123, 38, 51]\n",
      "10 recommended list: [513, 666, 200, 199, 457, 159, 585, 582, 407, 693]\n",
      "11 recommended list: [413, 231, 304, 514, 531, 507, 145, 695, 693, 212]\n",
      "12 recommended list: [306, 531, 118, 530, 105, 520, 200, 642, 598, 644]\n",
      "13 recommended list: [465, 466, 309, 290, 146, 413, 185, 199, 407, 145]\n",
      "14 recommended list: [145, 111, 694, 330, 531, 642, 303, 374, 9, 535]\n",
      "15 recommended list: [407, 121, 664, 330, 533, 690, 101, 476, 489, 659]\n",
      "16 recommended list: [330, 114, 102, 199, 547, 118, 171, 16, 223, 297]\n",
      "17 recommended list: [330, 306, 413, 145, 120, 231, 211, 118, 584, 670]\n",
      "18 recommended list: [531, 533, 304, 407, 120, 111, 118, 659, 305, 51]\n",
      "19 recommended list: [413, 420, 465, 309, 407, 519, 306, 464, 658, 659]\n",
      "20 recommended list: [507, 407, 413, 695, 18, 224, 120, 520, 530, 240]\n",
      "21 recommended list: [659, 146, 290, 198, 581, 38, 597, 199, 629, 92]\n",
      "22 recommended list: [169, 659, 684, 628, 146, 717, 557, 309, 533, 243]\n",
      "23 recommended list: [306, 304, 231, 514, 109, 111, 413, 557, 150, 208]\n",
      "24 recommended list: [531, 118, 120, 200, 530, 111, 185, 642, 333, 73]\n",
      "25 recommended list: [354, 465, 464, 597, 309, 77, 344, 717, 58, 466]\n",
      "26 recommended list: [597, 407, 134, 306, 575, 706, 14, 353, 302, 305]\n",
      "27 recommended list: [597, 17, 659, 69, 240, 535, 38, 534, 100, 520]\n",
      "28 recommended list: [330, 244, 687, 439, 221, 377, 129, 607, 557, 438]\n",
      "29 recommended list: [231, 717, 693, 514, 413, 101, 176, 275, 694, 9]\n",
      "30 recommended list: [413, 200, 118, 74, 111, 507, 146, 302, 288, 306]\n",
      "31 recommended list: [597, 659, 465, 309, 466, 85, 302, 200, 114, 717]\n",
      "32 recommended list: [330, 200, 199, 438, 304, 512, 575, 557, 488, 407]\n",
      "33 recommended list: [597, 659, 703, 358, 642, 466, 563, 531, 485, 724]\n",
      "34 recommended list: [597, 717, 171, 84, 319, 382, 512, 67, 430, 304]\n",
      "35 recommended list: [195, 532, 231, 557, 498, 169, 695, 109, 644, 511]\n",
      "36 recommended list: [134, 109, 169, 557]\n",
      "37 recommended list: [168, 170, 557, 698, 134, 198, 403, 693, 667]\n",
      "38 recommended list: [330, 144, 125, 392, 95, 557, 120, 594, 199, 695]\n",
      "39 recommended list: [659, 494, 440, 677, 513, 231, 507, 374, 125, 95]\n",
      "40 recommended list: [227, 306, 441, 131, 169, 125, 74, 252, 654, 668]\n",
      "41 recommended list: [231, 440, 120, 195, 458, 19, 641, 695, 521, 530]\n",
      "\n",
      "Recall@10:  0.11827956989247312\n"
     ]
    }
   ],
   "source": [
    "def Rec_weektime(train,test):    \n",
    "    test_actual = list(test['mod_itemfullname'])\n",
    "    \n",
    "    def Rec_list(idx,time):\n",
    "        \n",
    "        M = train[train['user_id']==idx]\n",
    "        D = {}\n",
    "        for i in M['mod_itemfullname']:\n",
    "            D[i]= len(M[M['mod_itemfullname']==i]['mod_itemfullname'])\n",
    "\n",
    "        # Sort dictionary in descending order    \n",
    "        sorted_d = dict( sorted(D.items(), key=operator.itemgetter(1),reverse=True))\n",
    "\n",
    "        # Get first 10 hightest brought items\n",
    "        H = list(islice(sorted_d.items(), 10))\n",
    "        #print('Top 10 highest brought (item,counts):\\n',H)\n",
    "\n",
    "        # Recommend list\n",
    "        Rec_list = [i[0] for i in H]\n",
    "        print('{} recommended list:'.format(time),Rec_list)\n",
    "        return Rec_list\n",
    "\n",
    "    T = [q for q in range(42)] \n",
    "    \n",
    "    List_saved = {}\n",
    "    for idx,time in enumerate(T):\n",
    "        List_saved[idx] = Rec_list(idx,time)\n",
    "\n",
    "    s = 0\n",
    "    for i in range(len(test)):\n",
    "        if test_actual[i] in List_saved[list(test['user_id'])[i]]:\n",
    "            s+=1\n",
    "    print('\\nRecall@10: ',s/len(test_actual))\n",
    "\n",
    "# 80 train, 20 test\n",
    "train = df[0:4836]\n",
    "test = df[4836:]\n",
    "Rec_weektime(train,test)"
   ]
  }
 ],
 "metadata": {
  "kernelspec": {
   "display_name": "Python 3",
   "language": "python",
   "name": "python3"
  },
  "language_info": {
   "codemirror_mode": {
    "name": "ipython",
    "version": 3
   },
   "file_extension": ".py",
   "mimetype": "text/x-python",
   "name": "python",
   "nbconvert_exporter": "python",
   "pygments_lexer": "ipython3",
   "version": "3.7.6"
  }
 },
 "nbformat": 4,
 "nbformat_minor": 4
}
